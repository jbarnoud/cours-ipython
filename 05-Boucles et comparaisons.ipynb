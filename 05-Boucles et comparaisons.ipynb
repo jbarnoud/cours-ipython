{
 "metadata": {
  "name": ""
 },
 "nbformat": 3,
 "nbformat_minor": 0,
 "worksheets": [
  {
   "cells": [
    {
     "cell_type": "heading",
     "level": 1,
     "metadata": {},
     "source": [
      "Boucles et comparaisons"
     ]
    },
    {
     "cell_type": "heading",
     "level": 2,
     "metadata": {},
     "source": [
      "Boucles `for`"
     ]
    },
    {
     "cell_type": "markdown",
     "metadata": {},
     "source": [
      "Imaginez que vous ayez une liste de quatre \u00e9l\u00e9ments dont vous voulez afficher les \u00e9l\u00e9ments les uns apr\u00e8s les autres. Dans l'\u00e9tat actuel de vos connaissances, il faudrait taper quelque chose du style :"
     ]
    },
    {
     "cell_type": "code",
     "collapsed": false,
     "input": [
      "animaux = ['girafe','tigre','singe','souris']\n",
      "print animaux[0]\n",
      "print animaux[1]\n",
      "print animaux[2]\n",
      "print animaux[3]"
     ],
     "language": "python",
     "metadata": {},
     "outputs": []
    },
    {
     "cell_type": "markdown",
     "metadata": {},
     "source": [
      "Si votre liste ne contient que quatre \u00e9l\u00e9ments, ceci est encore faisable mais imaginez qu'elle en contienne 100 voire 1000 ! Pour rem\u00e9dier \u00e0 cela, il faut utiliser les boucles. Regardez l'exemple suivant :"
     ]
    },
    {
     "cell_type": "code",
     "collapsed": false,
     "input": [
      "animaux = ['girafe','tigre','singe','souris']\n",
      "for animal in animaux:\n",
      "    print animal"
     ],
     "language": "python",
     "metadata": {},
     "outputs": [
      {
       "output_type": "stream",
       "stream": "stdout",
       "text": [
        "girafe\n",
        "tigre\n",
        "singe\n",
        "souris\n"
       ]
      }
     ],
     "prompt_number": 1
    },
    {
     "cell_type": "markdown",
     "metadata": {},
     "source": [
      "En fait, la `variable` animal va prendre successivement les diff\u00e9rentes valeurs de la liste `animaux` \u00e0 chaque it\u00e9ration de la boucle. Notez bien les types de variable: `animaux` est une liste sur laquelle on it\u00e8re, et `animal` est une cha\u00eene de caract\u00e8re qui \u00e0 chaque it\u00e9ration de la boucle prendra les valeurs successives de la liste `animaux` (car les \u00e9l\u00e9ments de la liste sont des cha\u00eenes de caract\u00e8re, mais on verra plus loin que cela est valable pour n'importe quel type de variable)."
     ]
    },
    {
     "cell_type": "markdown",
     "metadata": {},
     "source": [
      "D'ores et d\u00e9j\u00e0, remarquez avec attention l'**indentation**. Vous voyez que l'instruction `print animal` est d\u00e9cal\u00e9e par rapport \u00e0 l'instruction `for animal in animaux:`. Outre une meilleure lisibilit\u00e9, ceci est formellement requis en Python. Toutes les instructions que l'on veut r\u00e9p\u00e9ter constituent le **corps de la boucle** (ou un bloc d'instructions) et **doivent \u00eatre indent\u00e9es** d'un(e) ou plusieurs espace(s) ou tabulation(s). Dans le cas contraire, Python vous renvoie un message d'erreur :"
     ]
    },
    {
     "cell_type": "code",
     "collapsed": false,
     "input": [
      "for animal in animaux:\n",
      "print animal"
     ],
     "language": "python",
     "metadata": {},
     "outputs": [
      {
       "ename": "IndentationError",
       "evalue": "expected an indented block (<ipython-input-2-9a78c25b6d01>, line 2)",
       "output_type": "pyerr",
       "traceback": [
        "\u001b[0;36m  File \u001b[0;32m\"<ipython-input-2-9a78c25b6d01>\"\u001b[0;36m, line \u001b[0;32m2\u001b[0m\n\u001b[0;31m    print animal\u001b[0m\n\u001b[0m        ^\u001b[0m\n\u001b[0;31mIndentationError\u001b[0m\u001b[0;31m:\u001b[0m expected an indented block\n"
       ]
      }
     ],
     "prompt_number": 2
    },
    {
     "cell_type": "markdown",
     "metadata": {},
     "source": [
      "Notez \u00e9galement que si le corps de votre boucle contient plusieurs instructions, celles-ci doivent \u00eatre indent\u00e9es de la m\u00eame mani\u00e8re (e.g. si vous avez indent\u00e9 la premi\u00e8re instruction avec deux espaces, vous devez faire de m\u00eame avec la deuxi\u00e8me instruction, etc)."
     ]
    },
    {
     "cell_type": "markdown",
     "metadata": {},
     "source": [
      "Remarquez \u00e9galement un autre aspect de la syntaxe, une instruction `for` doit absolument se terminer par le signe deux-points `:`."
     ]
    },
    {
     "cell_type": "markdown",
     "metadata": {},
     "source": [
      "Il est aussi possible d'utiliser une tranche d'une liste :"
     ]
    },
    {
     "cell_type": "code",
     "collapsed": false,
     "input": [
      "animaux = ['girafe','tigre','singe','souris']\n",
      "for animal in animaux[1:3]:\n",
      "    print animal"
     ],
     "language": "python",
     "metadata": {},
     "outputs": [
      {
       "output_type": "stream",
       "stream": "stdout",
       "text": [
        "tigre\n",
        "singe\n"
       ]
      }
     ],
     "prompt_number": 3
    },
    {
     "cell_type": "markdown",
     "metadata": {},
     "source": [
      "On a vu que les boucles for pouvaient utiliser une liste contenant des cha\u00eenes de caract\u00e8res, mais elles peuvent tout aussi bien utiliser des listes num\u00e9riques. En utilisant l'instruction range on peut facilement acc\u00e9der \u00e0 une liste d'entiers."
     ]
    },
    {
     "cell_type": "code",
     "collapsed": false,
     "input": [
      "for i in range(4):\n",
      "    print i"
     ],
     "language": "python",
     "metadata": {},
     "outputs": [
      {
       "output_type": "stream",
       "stream": "stdout",
       "text": [
        "0\n",
        "1\n",
        "2\n",
        "3\n"
       ]
      }
     ],
     "prompt_number": 4
    },
    {
     "cell_type": "markdown",
     "metadata": {},
     "source": [
      "Notez ici que nous avons choisi le nom `i` pour la variable d'it\u00e9ration. Ceci est un standard en informatique et indique en g\u00e9n\u00e9ral qu'il s'agit d'un entier (le nom `i` vient sans doute du mot indice). Nous vous conseillons de toujours suivre cette convention afin d'\u00e9viter les confusions, si vous it\u00e9rez sur les indices vous pouvez appeler la variable `i` (par exemple dans for `i in range(4):`), si vous it\u00e9rez sur une liste comportant des cha\u00eenes de caract\u00e8res, mettez un nom explicite pour la variable d'it\u00e9ration (par exemple `for prenom in ['Joe','Bill']:`).\n",
      "\n",
      "Revenons \u00e0 notre liste `animaux`. Nous allons maintenant parcourir cette liste, mais cette fois par une it\u00e9ration sur ses indices :"
     ]
    },
    {
     "cell_type": "code",
     "collapsed": false,
     "input": [
      "animaux = ['girafe', 'tigre', 'singe', 'souris']\n",
      "for i in range(4):\n",
      "    print animaux[i]"
     ],
     "language": "python",
     "metadata": {},
     "outputs": [
      {
       "output_type": "stream",
       "stream": "stdout",
       "text": [
        "girafe\n",
        "tigre\n",
        "singe\n",
        "souris\n"
       ]
      }
     ],
     "prompt_number": 5
    },
    {
     "cell_type": "markdown",
     "metadata": {},
     "source": [
      "La variable `i` prendra les valeurs successives 0, 1, 2 et 3 et on acc\u00e8dera \u00e0 chaque \u00e9l\u00e9ment de la liste `animaux` par son indice (i.e. `animaux[i]`)\n",
      "\n",
      "Sur ces diff\u00e9rentes m\u00e9thodes de parcours de liste, quelle est la la plus efficace ? **La m\u00e9thode \u00e0 utiliser** pour parcourir avec une boucle `for` les \u00e9l\u00e9ments d'une liste est celle qui r\u00e9alise les **it\u00e9rations directement sur les \u00e9lements**."
     ]
    },
    {
     "cell_type": "code",
     "collapsed": false,
     "input": [
      "animaux = ['girafe','tigre','singe','souris']\n",
      "for animal in animaux:\n",
      "    print animal"
     ],
     "language": "python",
     "metadata": {},
     "outputs": [
      {
       "output_type": "stream",
       "stream": "stdout",
       "text": [
        "girafe\n",
        "tigre\n",
        "singe\n",
        "souris\n"
       ]
      }
     ],
     "prompt_number": 6
    },
    {
     "cell_type": "markdown",
     "metadata": {},
     "source": [
      "Si vous avez besoin de parcourir votre liste par ses indices, pr\u00e9f\u00e9rez la fonction `xrange()` qui s'utilise de la m\u00eame mani\u00e8re que `range()` mais qui ne construit pas de liste et qui est donc beaucoup plus rapide. La fonction `range()` ne sera donc employ\u00e9e que pour cr\u00e9er des listes d'entiers."
     ]
    },
    {
     "cell_type": "code",
     "collapsed": false,
     "input": [
      "animaux = ['girafe','tigre','singe','souris']\n",
      "for i in xrange(4):\n",
      "    print animaux[i]"
     ],
     "language": "python",
     "metadata": {},
     "outputs": [
      {
       "output_type": "stream",
       "stream": "stdout",
       "text": [
        "girafe\n",
        "tigre\n",
        "singe\n",
        "souris\n"
       ]
      }
     ],
     "prompt_number": 7
    },
    {
     "cell_type": "markdown",
     "metadata": {},
     "source": [
      "Enfin, si vous avez besoin de l'indice d'un \u00e9l\u00e9ment d'une liste et de l'\u00e9l\u00e9ment lui-m\u00eame, la fonction `enumerate()` est pratique."
     ]
    },
    {
     "cell_type": "code",
     "collapsed": false,
     "input": [
      "animaux = ['girafe','tigre','singe','souris']\n",
      "for i, ani in enumerate(animaux):\n",
      "    print i, ani"
     ],
     "language": "python",
     "metadata": {},
     "outputs": [
      {
       "output_type": "stream",
       "stream": "stdout",
       "text": [
        "0 girafe\n",
        "1 tigre\n",
        "2 singe\n",
        "3 souris\n"
       ]
      }
     ],
     "prompt_number": 8
    },
    {
     "cell_type": "heading",
     "level": 2,
     "metadata": {},
     "source": [
      "Comparaisons"
     ]
    },
    {
     "cell_type": "markdown",
     "metadata": {},
     "source": [
      "Avant de passer \u00e0 une autre sorte de boucles (les boucles `while`), nous abordons tout de suite les **comparaisons**. Celles-ci seront reprises dans le chapitre des tests. Python est capable d'effectuer toute une s\u00e9rie de comparaisons entre le contenu de diff\u00e9rentes variables, telles que :\n",
      "\n",
      "syntaxe Python     |      signification\n",
      "-------------------|-----------------------------\n",
      "    `==`           |         \u00e9gal \u00e0\n",
      "    `!=`           |         diff\u00e9rent de\n",
      "    `>`            |         sup\u00e9rieur \u00e0\n",
      "    `>=`           |         sup\u00e9rieur ou \u00e9gal \u00e0\n",
      "    `<`            |         inf\u00e9rieur \u00e0\n",
      "    `<=`           |         inf\u00e9rieur ou \u00e9gal \u00e0"
     ]
    },
    {
     "cell_type": "markdown",
     "metadata": {},
     "source": [
      "Observez l'exemple suivant sur des nombres entiers."
     ]
    },
    {
     "cell_type": "code",
     "collapsed": false,
     "input": [
      "x = 5\n",
      "x == 5"
     ],
     "language": "python",
     "metadata": {},
     "outputs": [
      {
       "metadata": {},
       "output_type": "pyout",
       "prompt_number": 9,
       "text": [
        "True"
       ]
      }
     ],
     "prompt_number": 9
    },
    {
     "cell_type": "code",
     "collapsed": false,
     "input": [
      "x > 10"
     ],
     "language": "python",
     "metadata": {},
     "outputs": [
      {
       "metadata": {},
       "output_type": "pyout",
       "prompt_number": 10,
       "text": [
        "False"
       ]
      }
     ],
     "prompt_number": 10
    },
    {
     "cell_type": "code",
     "collapsed": false,
     "input": [
      "x < 10"
     ],
     "language": "python",
     "metadata": {},
     "outputs": [
      {
       "metadata": {},
       "output_type": "pyout",
       "prompt_number": 11,
       "text": [
        "True"
       ]
      }
     ],
     "prompt_number": 11
    },
    {
     "cell_type": "markdown",
     "metadata": {},
     "source": [
      "Python renvoie la valeur `True` si la comparaison est vraie et `False` si elle est fausse. `True` et `False` sont des bool\u00e9ens.\n",
      "\n",
      "\n",
      "Faites bien attention \u00e0 ne pas confondre l'op\u00e9rateur d'**affectation** `=` qui donne une valeur \u00e0 une variable et l'op\u00e9rateur de **comparaison** `==` qui compare les valeurs de deux variables.\n",
      "\n",
      "\n",
      "Vous pouvez \u00e9galement effectuer des comparaisons sur des cha\u00eenes de caract\u00e8res."
     ]
    },
    {
     "cell_type": "code",
     "collapsed": false,
     "input": [
      "animal = \"tigre\"\n",
      "animal == \"tig\""
     ],
     "language": "python",
     "metadata": {},
     "outputs": [
      {
       "metadata": {},
       "output_type": "pyout",
       "prompt_number": 12,
       "text": [
        "False"
       ]
      }
     ],
     "prompt_number": 12
    },
    {
     "cell_type": "code",
     "collapsed": false,
     "input": [
      "animal != \"tig\""
     ],
     "language": "python",
     "metadata": {},
     "outputs": [
      {
       "metadata": {},
       "output_type": "pyout",
       "prompt_number": 13,
       "text": [
        "True"
       ]
      }
     ],
     "prompt_number": 13
    },
    {
     "cell_type": "code",
     "collapsed": false,
     "input": [
      "animal == 'tigre'"
     ],
     "language": "python",
     "metadata": {},
     "outputs": [
      {
       "metadata": {},
       "output_type": "pyout",
       "prompt_number": 14,
       "text": [
        "True"
       ]
      }
     ],
     "prompt_number": 14
    },
    {
     "cell_type": "markdown",
     "metadata": {},
     "source": [
      "Dans le cas des cha\u00eenes de caract\u00e8res, a priori seuls les tests `==` et `!=` ont un sens. En fait, on peut aussi utiliser les op\u00e9rateurs `<`, `>`, `<=` et `>=`. Dans ce cas l'ordre alphab\u00e9tique est pris en compte, par exemple :"
     ]
    },
    {
     "cell_type": "code",
     "collapsed": false,
     "input": [
      "\"a\" < \"b\""
     ],
     "language": "python",
     "metadata": {},
     "outputs": [
      {
       "metadata": {},
       "output_type": "pyout",
       "prompt_number": 15,
       "text": [
        "True"
       ]
      }
     ],
     "prompt_number": 15
    },
    {
     "cell_type": "markdown",
     "metadata": {},
     "source": [
      "`\"a\"` est inf\u00e9rieur \u00e0 `\"b\"` car il est situ\u00e9 avant dans l'ordre alphab\u00e9tique. En fait, c'est l'ordre ASCII des caract\u00e8res qui est pris en compte (i.e. chaque caract\u00e8re est affect\u00e9 \u00e0 un code num\u00e9rique), on peut donc comparer aussi des caract\u00e8res sp\u00e9ciaux (comme `#` ou `~`) entre eux. On peut aussi comparer des cha\u00eenes \u00e0 plus d'un caract\u00e8re."
     ]
    },
    {
     "cell_type": "code",
     "collapsed": false,
     "input": [
      "\"ali\" < \"alo\""
     ],
     "language": "python",
     "metadata": {},
     "outputs": [
      {
       "metadata": {},
       "output_type": "pyout",
       "prompt_number": 16,
       "text": [
        "True"
       ]
      }
     ],
     "prompt_number": 16
    },
    {
     "cell_type": "code",
     "collapsed": false,
     "input": [
      "\"abb\" < \"ada\""
     ],
     "language": "python",
     "metadata": {},
     "outputs": [
      {
       "metadata": {},
       "output_type": "pyout",
       "prompt_number": 17,
       "text": [
        "True"
       ]
      }
     ],
     "prompt_number": 17
    },
    {
     "cell_type": "markdown",
     "metadata": {},
     "source": [
      "Dans ce cas, Python compare caract\u00e8re par caract\u00e8re de la gauche vers la droite (le premier avec le premier, le deuxi\u00e8me avec le deuxi\u00e8me, etc). D\u00e8s qu'un caract\u00e8re est diff\u00e9rent entre l'une et l'autre des cha\u00eenes, il consid\u00e8re que la cha\u00eene \u00abla plus petite \u00bbest celle qui pr\u00e9sente le caract\u00e8re ayant le plus petit code ASCII (les caract\u00e8res suivants de la cha\u00eene sont ignor\u00e9s dans la comparaison), comme dans notre test `\"abb\" < \"ada\"` ci-dessus."
     ]
    },
    {
     "cell_type": "heading",
     "level": 2,
     "metadata": {},
     "source": [
      "Boucles while"
     ]
    },
    {
     "cell_type": "markdown",
     "metadata": {},
     "source": [
      "Une autre alternative \u00e0 l'instruction `for` couramment utilis\u00e9e en informatique est la boucle `while`. Le principe est simple. Une s\u00e9rie d'instructions est ex\u00e9cut\u00e9e tant qu'une condition est vraie. Par exemple :"
     ]
    },
    {
     "cell_type": "code",
     "collapsed": false,
     "input": [
      "i = 1\n",
      "while i <= 4:\n",
      "    print i\n",
      "    i = i + 1"
     ],
     "language": "python",
     "metadata": {},
     "outputs": [
      {
       "output_type": "stream",
       "stream": "stdout",
       "text": [
        "1\n",
        "2\n",
        "3\n",
        "4\n"
       ]
      }
     ],
     "prompt_number": 18
    },
    {
     "cell_type": "markdown",
     "metadata": {},
     "source": [
      "Remarquez qu'il est encore une fois n\u00e9cessaire d'indenter le bloc d'instructions. Une boucle `while` n\u00e9cessite **trois \u00e9l\u00e9ments** pour fonctionner correctement :\n",
      "\n",
      "1. l'initialisation de la variable de test avant la boucle ;\n",
      "2. le test de la variable associ\u00e9 \u00e0 l'instruction `while` ;\n",
      "3. l'incr\u00e9mentation de la variable de test dans le corps de la boucle.\n",
      "\n",
      "Faites bien attention aux tests et \u00e0 l'incr\u00e9mentation que vous utilisez car une erreur m\u00e8ne souvent \u00e0 des boucles infinies qui ne s'arr\u00e8tent pas. Vous pouvez n\u00e9anmoins toujours stopper l'ex\u00e9cution d'un script Python \u00e0 l'aide de la combinaison de touches Ctrl-C."
     ]
    },
    {
     "cell_type": "heading",
     "level": 2,
     "metadata": {},
     "source": [
      "Exercices"
     ]
    },
    {
     "cell_type": "markdown",
     "metadata": {},
     "source": [
      "Conseil : pour ces exercices, \u00e9crivez des scripts dans des fichiers, puis ex\u00e9cutez-les dans un shell.\n",
      "\n",
      "1\\. Soit la liste `['vache','souris','levure','bacterie']`. Affichez l'ensemble des \u00e9l\u00e9ments de cette liste (un \u00e9l\u00e9ment par ligne) de trois mani\u00e8res diff\u00e9rentes (deux avec `for` et une avec `while`)."
     ]
    },
    {
     "cell_type": "code",
     "collapsed": false,
     "input": [],
     "language": "python",
     "metadata": {},
     "outputs": []
    },
    {
     "cell_type": "markdown",
     "metadata": {},
     "source": [
      "2\\. Constituez une liste `semaine` contenant les 7 jours de la semaine. \u00c9crivez une s\u00e9rie d'instructions affichant les jours de la semaine (en utiliser une boucle `for`), ainsi qu'une autre s\u00e9rie d'instructions affichant les jours du week-end (en utilisant une boucle `while`)."
     ]
    },
    {
     "cell_type": "code",
     "collapsed": false,
     "input": [],
     "language": "python",
     "metadata": {},
     "outputs": []
    },
    {
     "cell_type": "markdown",
     "metadata": {},
     "source": [
      "3\\. Avec une boucle, affichez les nombres de 1 \u00e0 10 sur une seule ligne."
     ]
    },
    {
     "cell_type": "code",
     "collapsed": false,
     "input": [],
     "language": "python",
     "metadata": {},
     "outputs": []
    },
    {
     "cell_type": "markdown",
     "metadata": {},
     "source": [
      "4\\. Soit `impairs` la liste de nombres `[1, 3, 5, 7, 9, 11, 13, 15, 17, 19, 21]`. \u00c9crivez un programme qui, \u00e0 partir de la liste `impairs`, construit une liste `pairs` dans laquelle tous les \u00e9l\u00e9ments de impairs sont incr\u00e9ment\u00e9s de 1."
     ]
    },
    {
     "cell_type": "code",
     "collapsed": false,
     "input": [],
     "language": "python",
     "metadata": {},
     "outputs": []
    },
    {
     "cell_type": "markdown",
     "metadata": {},
     "source": [
      "5\\. Voici les notes d'un \u00e9tudiant `[14, 9, 6, 8, 12]`. Calculez la moyenne de ces notes. Utilisez l'\u00e9criture format\u00e9e pour afficher la valeur de la moyenne avec deux d\u00e9cimales."
     ]
    },
    {
     "cell_type": "code",
     "collapsed": false,
     "input": [],
     "language": "python",
     "metadata": {},
     "outputs": []
    },
    {
     "cell_type": "markdown",
     "metadata": {},
     "source": [
      "6\\. Soit la liste `X` contenant les nombres entiers de 0 \u00e0 10. Calculez le produit des nombres cons\u00e9cutifs deux \u00e0 deux de `X` en utilisant une boucle. Exemple pour les premi\u00e8res it\u00e9rations :\n",
      "\n",
      "    0\n",
      "    2\n",
      "    6\n",
      "    12\n",
      "    "
     ]
    },
    {
     "cell_type": "code",
     "collapsed": false,
     "input": [],
     "language": "python",
     "metadata": {},
     "outputs": []
    },
    {
     "cell_type": "markdown",
     "metadata": {},
     "source": [
      "7\\. **Triangle.** \u00c9crivez un script qui dessine un triangle comme celui-ci :\n",
      "    \n",
      "    *\n",
      "    **\n",
      "    ***\n",
      "    ****\n",
      "    *****\n",
      "    ******\n",
      "    *******\n",
      "    ********\n",
      "    *********\n",
      "    **********\n",
      "   "
     ]
    },
    {
     "cell_type": "code",
     "collapsed": false,
     "input": [],
     "language": "python",
     "metadata": {},
     "outputs": []
    },
    {
     "cell_type": "markdown",
     "metadata": {},
     "source": [
      "8\\. **Triangle invers\u00e9.** \u00c9crivez un script qui dessine un triangle comme celui-ci :\n",
      "\n",
      "    **********\n",
      "    *********\n",
      "    ********\n",
      "    *******\n",
      "    ******\n",
      "    *****\n",
      "    ****\n",
      "    ***\n",
      "    **\n",
      "    *\n",
      "    "
     ]
    },
    {
     "cell_type": "code",
     "collapsed": false,
     "input": [],
     "language": "python",
     "metadata": {},
     "outputs": []
    },
    {
     "cell_type": "markdown",
     "metadata": {},
     "source": [
      "9\\. **Triangle gauche.** \u00c9crivez un script qui dessine un triangle comme celui-ci :\n",
      "\n",
      "             *\n",
      "            **\n",
      "           ***\n",
      "          ****\n",
      "         *****\n",
      "        ******\n",
      "       *******\n",
      "      ********\n",
      "     *********\n",
      "    **********\n",
      "    "
     ]
    },
    {
     "cell_type": "code",
     "collapsed": false,
     "input": [],
     "language": "python",
     "metadata": {},
     "outputs": []
    },
    {
     "cell_type": "markdown",
     "metadata": {},
     "source": [
      "10\\. **Triangle isoc\u00e8le.** \u00c9crivez un script qui dessine un triangle comme celui-ci :\n",
      "\n",
      "             *\n",
      "            ***\n",
      "           *****\n",
      "          *******\n",
      "         *********\n",
      "        ***********\n",
      "       *************\n",
      "      ***************\n",
      "     *****************\n",
      "    *******************\n",
      "    "
     ]
    },
    {
     "cell_type": "code",
     "collapsed": false,
     "input": [],
     "language": "python",
     "metadata": {},
     "outputs": []
    },
    {
     "cell_type": "markdown",
     "metadata": {},
     "source": [
      "11\\. Exercice +++. **Suite de Fibonacci.** La suite de Fibonacci est une suite math\u00e9matique qui porte le nom de Leonardo Fibonacci, un math\u00e9maticien italien du XIIIe si\u00e8cle. Initialement, cette suite a \u00e9t\u00e9 utilis\u00e9e pour d\u00e9crire la croissance d'une population de lapins mais elle est peut \u00e9galement \u00eatre utilis\u00e9e pour d\u00e9crire certains motifs g\u00e9om\u00e9triques retrouv\u00e9s dans la nature (coquillages, fleurs de tournesol...).\n",
      "Par d\u00e9finition, les deux premiers termes de la suite de Fibonacci sont 0 et 1. Ensuite, le terme au rang *n* est la somme des nombres aux rangs *n - 1* et *n - 2*. Par exemple, les 10 premiers termes de la suite de Fibonacci sont 0, 1, 1, 2, 3, 5, 8, 13, 21, 34.\n",
      "\n",
      "\u00c9crivez un script qui construit la liste des 20 premiers termes de la suite de Fibonacci puis l'affiche."
     ]
    },
    {
     "cell_type": "code",
     "collapsed": false,
     "input": [],
     "language": "python",
     "metadata": {},
     "outputs": []
    },
    {
     "cell_type": "code",
     "collapsed": false,
     "input": [
      "# Execute this cell to load the notebook's style sheet, then ignore it\n",
      "from IPython.core.display import HTML\n",
      "css_file = 'styles/numericalmoocstyle.css'\n",
      "HTML(open(css_file, \"r\").read())"
     ],
     "language": "python",
     "metadata": {},
     "outputs": [
      {
       "html": [
        "<link href='http://fonts.googleapis.com/css?family=Alegreya+Sans:100,300,400,500,700,800,900,100italic,300italic,400italic,500italic,700italic,800italic,900italic' rel='stylesheet' type='text/css'>\n",
        "<link href='http://fonts.googleapis.com/css?family=Arvo:400,700,400italic' rel='stylesheet' type='text/css'>\n",
        "<link href='http://fonts.googleapis.com/css?family=PT+Mono' rel='stylesheet' type='text/css'>\n",
        "<link href='http://fonts.googleapis.com/css?family=Shadows+Into+Light' rel='stylesheet' type='text/css'>\n",
        "<link href='http://fonts.googleapis.com/css?family=Nixie+One' rel='stylesheet' type='text/css'>\n",
        "<style>\n",
        "\n",
        "@font-face {\n",
        "    font-family: \"Computer Modern\";\n",
        "    src: url('http://mirrors.ctan.org/fonts/cm-unicode/fonts/otf/cmunss.otf');\n",
        "}\n",
        "\n",
        "#notebook_panel { /* main background */\n",
        "    background: rgb(245,245,245);\n",
        "}\n",
        "\n",
        "div.cell { /* set cell width */\n",
        "    width: 750px;\n",
        "}\n",
        "\n",
        "div #notebook { /* centre the content */\n",
        "    background: #fff; /* white background for content */\n",
        "    width: 1000px;\n",
        "    margin: auto;\n",
        "    padding-left: 0em;\n",
        "}\n",
        "\n",
        "#notebook li { /* More space between bullet points */\n",
        "margin-top:0.8em;\n",
        "}\n",
        "\n",
        "/* draw border around running cells */\n",
        "div.cell.border-box-sizing.code_cell.running { \n",
        "    border: 1px solid #111;\n",
        "}\n",
        "\n",
        "/* Put a solid color box around each cell and its output, visually linking them*/\n",
        "div.cell.code_cell {\n",
        "    background-color: rgb(256,256,256); \n",
        "    border-radius: 0px; \n",
        "    padding: 0.5em;\n",
        "    margin-left:1em;\n",
        "    margin-top: 1em;\n",
        "}\n",
        "\n",
        "div.text_cell_render{\n",
        "    font-family: 'Alegreya Sans' sans-serif;\n",
        "    line-height: 140%;\n",
        "    font-size: 125%;\n",
        "    font-weight: 400;\n",
        "    width:600px;\n",
        "    margin-left:auto;\n",
        "    margin-right:auto;\n",
        "}\n",
        "\n",
        "\n",
        "/* Formatting for header cells */\n",
        ".text_cell_render h1 {\n",
        "    font-family: 'Nixie One', serif;\n",
        "    font-style:regular;\n",
        "    font-weight: 400;    \n",
        "    font-size: 45pt;\n",
        "    line-height: 100%;\n",
        "    color: rgb(0,51,102);\n",
        "    margin-bottom: 0.5em;\n",
        "    margin-top: 0.5em;\n",
        "    display: block;\n",
        "}\t\n",
        ".text_cell_render h2 {\n",
        "    font-family: 'Nixie One', serif;\n",
        "    font-weight: 400;\n",
        "    font-size: 30pt;\n",
        "    line-height: 100%;\n",
        "    color: rgb(0,51,102);\n",
        "    margin-bottom: 0.1em;\n",
        "    margin-top: 0.3em;\n",
        "    display: block;\n",
        "}\t\n",
        "\n",
        ".text_cell_render h3 {\n",
        "    font-family: 'Nixie One', serif;\n",
        "    margin-top:16px;\n",
        "\tfont-size: 22pt;\n",
        "    font-weight: 600;\n",
        "    margin-bottom: 3px;\n",
        "    font-style: regular;\n",
        "    color: rgb(102,102,0);\n",
        "}\n",
        "\n",
        ".text_cell_render h4 {    /*Use this for captions*/\n",
        "    font-family: 'Nixie One', serif;\n",
        "    font-size: 14pt;\n",
        "    text-align: center;\n",
        "    margin-top: 0em;\n",
        "    margin-bottom: 2em;\n",
        "    font-style: regular;\n",
        "}\n",
        "\n",
        ".text_cell_render h5 {  /*Use this for small titles*/\n",
        "    font-family: 'Nixie One', sans-serif;\n",
        "    font-weight: 400;\n",
        "    font-size: 16pt;\n",
        "    color: rgb(163,0,0);\n",
        "    font-style: italic;\n",
        "    margin-bottom: .1em;\n",
        "    margin-top: 0.8em;\n",
        "    display: block;\n",
        "}\n",
        "\n",
        ".text_cell_render h6 { /*use this for copyright note*/\n",
        "    font-family: 'PT Mono', sans-serif;\n",
        "    font-weight: 300;\n",
        "    font-size: 9pt;\n",
        "    line-height: 100%;\n",
        "    color: grey;\n",
        "    margin-bottom: 1px;\n",
        "    margin-top: 1px;\n",
        "}\n",
        "\n",
        ".CodeMirror{\n",
        "        font-family: \"PT Mono\";\n",
        "        font-size: 90%;\n",
        "}\n",
        "\n",
        "</style>\n",
        "<script>\n",
        "    MathJax.Hub.Config({\n",
        "                        TeX: {\n",
        "                           extensions: [\"AMSmath.js\"],\n",
        "                           equationNumbers: { autoNumber: \"AMS\", useLabelIds: true}\n",
        "                           },\n",
        "                tex2jax: {\n",
        "                    inlineMath: [ ['$','$'], [\"\\\\(\",\"\\\\)\"] ],\n",
        "                    displayMath: [ ['$$','$$'], [\"\\\\[\",\"\\\\]\"] ]\n",
        "                },\n",
        "                displayAlign: 'center', // Change this to 'center' to center equations.\n",
        "                \"HTML-CSS\": {\n",
        "                    styles: {'.MathJax_Display': {\"margin\": 4}}\n",
        "                }\n",
        "        });\n",
        "</script>\n"
       ],
       "metadata": {},
       "output_type": "pyout",
       "prompt_number": 19,
       "text": [
        "<IPython.core.display.HTML at 0x108203f10>"
       ]
      }
     ],
     "prompt_number": 19
    },
    {
     "cell_type": "code",
     "collapsed": false,
     "input": [],
     "language": "python",
     "metadata": {},
     "outputs": []
    }
   ],
   "metadata": {}
  }
 ]
}