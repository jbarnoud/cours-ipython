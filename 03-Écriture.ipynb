{
 "metadata": {
  "name": ""
 },
 "nbformat": 3,
 "nbformat_minor": 0,
 "worksheets": [
  {
   "cells": [
    {
     "cell_type": "heading",
     "level": 1,
     "metadata": {},
     "source": [
      "\u00c9criture"
     ]
    },
    {
     "cell_type": "markdown",
     "metadata": {},
     "source": [
      "Nous avons d\u00e9j\u00e0 vu au chapitre pr\u00e9c\u00e9dent la fonction **`print`** qui permet d'afficher une cha\u00eene de caract\u00e8res. Elle permet en plus d'afficher le contenu d'une ou plusieurs variables :"
     ]
    },
    {
     "cell_type": "code",
     "collapsed": false,
     "input": [
      "x = 32\n",
      "nom = 'John'\n",
      "print nom , ' a ' , x , ' ans'"
     ],
     "language": "python",
     "metadata": {},
     "outputs": [
      {
       "output_type": "stream",
       "stream": "stdout",
       "text": [
        "John  a  32  ans\n"
       ]
      }
     ],
     "prompt_number": 1
    },
    {
     "cell_type": "markdown",
     "metadata": {},
     "source": [
      "Python a donc \u00e9crit la phrase en rempla\u00e7ant les variables `x` et `nom` par leur contenu. Vous pouvez noter \u00e9galement que pour \u00e9crire plusieurs blocs de texte sur une seule ligne, nous avons utilis\u00e9 le s\u00e9parateur `,` avec la commande `print`. En regardant de plus pr\u00e8s, vous vous aper\u00e7evrez que Python a automatiquement ajout\u00e9 un espace \u00e0 chaque fois que l'on utilisait le s\u00e9parateur `,`. Par cons\u00e9quent, si vous voulez mettre un seul espace entre chaque bloc, vous pouvez retirer ceux de vos cha\u00eenes de caract\u00e8res :"
     ]
    },
    {
     "cell_type": "code",
     "collapsed": false,
     "input": [
      "print nom , 'a' , x , 'ans'"
     ],
     "language": "python",
     "metadata": {},
     "outputs": [
      {
       "output_type": "stream",
       "stream": "stdout",
       "text": [
        "John a 32 ans\n"
       ]
      }
     ],
     "prompt_number": 2
    },
    {
     "cell_type": "markdown",
     "metadata": {},
     "source": [
      "Pour imprimer deux cha\u00eenes de caract\u00e8res l'une \u00e0 c\u00f4t\u00e9 de l'autre sans espace, vous devrez les concat\u00e9ner :"
     ]
    },
    {
     "cell_type": "code",
     "collapsed": false,
     "input": [
      "ani1 = 'chat'\n",
      "ani2 = 'souris'\n",
      "print ani1, ani2"
     ],
     "language": "python",
     "metadata": {},
     "outputs": [
      {
       "output_type": "stream",
       "stream": "stdout",
       "text": [
        "chat souris\n"
       ]
      }
     ],
     "prompt_number": 3
    },
    {
     "cell_type": "code",
     "collapsed": false,
     "input": [
      "print ani1 + ani2"
     ],
     "language": "python",
     "metadata": {},
     "outputs": [
      {
       "output_type": "stream",
       "stream": "stdout",
       "text": [
        "chatsouris\n"
       ]
      }
     ],
     "prompt_number": 4
    },
    {
     "cell_type": "heading",
     "level": 2,
     "metadata": {},
     "source": [
      "\u00c9criture format\u00e9e"
     ]
    },
    {
     "cell_type": "markdown",
     "metadata": {},
     "source": [
      "Imaginez que vous vouliez calculer puis afficher la proportion de GC d'un g\u00e9nome. Notez que la proportion de GC s'obtient comme la somme des bases Guanine (G) et Cytosine (C) divis\u00e9e par le nombre total de bases. Sachant que l'on a 4500 bases G, 2575 bases C pour un total de 14800 bases, vous pourriez faire comme suit (notez bien l'utilisation des parenth\u00e8ses pour g\u00e9rer les priorit\u00e9s des op\u00e9rateurs) :"
     ]
    },
    {
     "cell_type": "code",
     "collapsed": false,
     "input": [
      "propGC = (4500.0 + 2575)/14800\n",
      "print \"La proportion de GC est\", propGC"
     ],
     "language": "python",
     "metadata": {},
     "outputs": [
      {
       "output_type": "stream",
       "stream": "stdout",
       "text": [
        "La proportion de GC est 0.478040540541\n"
       ]
      }
     ],
     "prompt_number": 5
    },
    {
     "cell_type": "markdown",
     "metadata": {},
     "source": [
      "Remarquez que si vous aviez fait le calcul avec `(4500 + 2575)/14800`, vous auriez obtenu 0 car tous les nombres sont des entiers et le r\u00e9sultat aurait \u00e9t\u00e9, lui aussi, un entier. L'introduction de `4500.0` qui est un r\u00e9el r\u00e9soud le probl\u00e8me, puisque le calcul se fait alors sur des r\u00e9els.\n",
      "\n",
      "N\u00e9anmoins, le r\u00e9sultat obtenu pr\u00e9sente trop de d\u00e9cimales (onze dans le cas pr\u00e9sent). Pour pouvoir \u00e9crire le r\u00e9sultat plus lisiblement, vous pouvez utiliser l'op\u00e9rateur de formatage `%`. Dans votre cas, vous voulez formater un r\u00e9el pour l'afficher avec deux puis trois d\u00e9cimales :"
     ]
    },
    {
     "cell_type": "code",
     "collapsed": false,
     "input": [
      "print \"La proportion de GC est %.2f\" % propGC"
     ],
     "language": "python",
     "metadata": {},
     "outputs": [
      {
       "output_type": "stream",
       "stream": "stdout",
       "text": [
        "La proportion de GC est 0.48\n"
       ]
      }
     ],
     "prompt_number": 6
    },
    {
     "cell_type": "code",
     "collapsed": false,
     "input": [
      "print \"La proportion de GC est %.3f\" % propGC"
     ],
     "language": "python",
     "metadata": {},
     "outputs": [
      {
       "output_type": "stream",
       "stream": "stdout",
       "text": [
        "La proportion de GC est 0.478\n"
       ]
      }
     ],
     "prompt_number": 7
    },
    {
     "cell_type": "markdown",
     "metadata": {},
     "source": [
      "Le signe `%` est appel\u00e9 une premi\u00e8re fois (`%.2f`) pour\n",
      "\n",
      "* d\u00e9signer l'endroit o\u00f9 sera plac\u00e9e la variable dans la cha\u00eene de caract\u00e8res ;\n",
      "* pr\u00e9ciser le type de la variable \u00e0 formater, ici `f` pour float donc pour un r\u00e9el ;\n",
      "* pr\u00e9ciser le formatage voulu, ici `.2` soit deux chiffres apr\u00e8s la virgule.\n",
      "\n",
      "Le signe `%` est rappel\u00e9 une seconde fois (`% propGC`) pour indiquer les variables \u00e0 formater. Notez que les r\u00e9els ainsi format\u00e9s sont arrondis et non tronqu\u00e9s.\n",
      "\n",
      "Vous pouvez aussi formatez des entiers avec `%i` (i comme integer)"
     ]
    },
    {
     "cell_type": "code",
     "collapsed": false,
     "input": [
      "nbG = 4500\n",
      "print \"Le g\u00e9nome de cet exemple contient %i guanines\" % nbG"
     ],
     "language": "python",
     "metadata": {},
     "outputs": [
      {
       "output_type": "stream",
       "stream": "stdout",
       "text": [
        "Le g\u00e9nome de cet exemple contient 4500 guanines\n"
       ]
      }
     ],
     "prompt_number": 8
    },
    {
     "cell_type": "markdown",
     "metadata": {},
     "source": [
      "ou mettre plusieurs nombres dans une m\u00eame cha\u00eene de caract\u00e8res."
     ]
    },
    {
     "cell_type": "code",
     "collapsed": false,
     "input": [
      "nbG = 4500\n",
      "nbC = 2575\n",
      "print \"Ce g\u00e9nome contient %i G et %i C, soit une prop de GC de %.2f\" \\\n",
      "      % (nbG,nbC,propGC)"
     ],
     "language": "python",
     "metadata": {},
     "outputs": [
      {
       "output_type": "stream",
       "stream": "stdout",
       "text": [
        "Ce g\u00e9nome contient 4500 G et 2575 C, soit une prop de GC de 0.48\n"
       ]
      }
     ],
     "prompt_number": 9
    },
    {
     "cell_type": "markdown",
     "metadata": {},
     "source": [
      "**Remarque** :\n",
      "\n",
      "Dans l'exemple pr\u00e9c\u00e9dent, nous avons utilis\u00e9 le symbole `%` pour formater des variables. Si vous avez besoin d'\u00e9crire le symbole pourcentage % sans qu'il soit confondu avec celui servant pour l'\u00e9criture format\u00e9e, il suffit de le doubler. Toutefois, si l'\u00e9criture format\u00e9e n'est pas utilis\u00e9e dans la m\u00eame cha\u00eene de caract\u00e8res o\u00f9 vous voulez utilisez le symbole pourcent, cette op\u00e9ration n'est pas n\u00e9cessaire. Par exemple :"
     ]
    },
    {
     "cell_type": "code",
     "collapsed": false,
     "input": [
      "nbG = 4500\n",
      "nbC = 2575\n",
      "percGC = propGC * 100\n",
      "print \"Ce g\u00e9nome contient %i G et %i C, soit un %%GC de %.2f\" \\\n",
      "      % (nbG,nbC,percGC) ,\"%\""
     ],
     "language": "python",
     "metadata": {},
     "outputs": [
      {
       "output_type": "stream",
       "stream": "stdout",
       "text": [
        "Ce g\u00e9nome contient 4500 G et 2575 C, soit un %GC de 47.80 %\n"
       ]
      }
     ],
     "prompt_number": 10
    },
    {
     "cell_type": "markdown",
     "metadata": {},
     "source": [
      "Le signe \\ en fin de ligne permet de poursuivre la commande sur la ligne suivante. Cette syntaxe est pratique lorsque vous voulez taper une commande longue.\n",
      "\n",
      "Enfin, il est possible de pr\u00e9ciser sur combien de caract\u00e8res vous voulez qu'un r\u00e9sultat soit \u00e9crit. Dans la portion de code suivant, le caract\u00e8re `;` sert de s\u00e9parateur entre les instructions sur une m\u00eame ligne :"
     ]
    },
    {
     "cell_type": "code",
     "collapsed": false,
     "input": [
      "print 10 ; print 100 ; print 1000"
     ],
     "language": "python",
     "metadata": {},
     "outputs": [
      {
       "output_type": "stream",
       "stream": "stdout",
       "text": [
        "10\n",
        "100\n",
        "1000\n"
       ]
      }
     ],
     "prompt_number": 11
    },
    {
     "cell_type": "code",
     "collapsed": false,
     "input": [
      "print \"%4i\" % 10 ; print \"%4i\" % 100 ; print \"%4i\" % 1000"
     ],
     "language": "python",
     "metadata": {},
     "outputs": [
      {
       "output_type": "stream",
       "stream": "stdout",
       "text": [
        "  10\n",
        " 100\n",
        "1000\n"
       ]
      }
     ],
     "prompt_number": 12
    },
    {
     "cell_type": "markdown",
     "metadata": {},
     "source": [
      "Ceci est \u00e9galement possible sur les cha\u00eenes de caract\u00e8res (avec `%s`, `s` comme *string*) :"
     ]
    },
    {
     "cell_type": "code",
     "collapsed": false,
     "input": [
      "print \"atom HN\" ; print \"atom HDE1\""
     ],
     "language": "python",
     "metadata": {},
     "outputs": [
      {
       "output_type": "stream",
       "stream": "stdout",
       "text": [
        "atom HN\n",
        "atom HDE1\n"
       ]
      }
     ],
     "prompt_number": 13
    },
    {
     "cell_type": "code",
     "collapsed": false,
     "input": [
      "print \"atom %4s\" % \"HN\" ; print \"atom %4s\" % \"HDE1\""
     ],
     "language": "python",
     "metadata": {},
     "outputs": [
      {
       "output_type": "stream",
       "stream": "stdout",
       "text": [
        "atom   HN\n",
        "atom HDE1\n"
       ]
      }
     ],
     "prompt_number": 14
    },
    {
     "cell_type": "markdown",
     "metadata": {},
     "source": [
      "Vous voyez tout de suite l'\u00e9norme avantage de l'\u00e9criture format\u00e9e. Cela permet d'\u00e9crire en colonnes parfaitement align\u00e9es. Nous verrons que ceci est tr\u00e8s pratique si l'on veut \u00e9crire les coordonn\u00e9es des atomes d'une mol\u00e9cule au format PDB.\n",
      "\n",
      "\n",
      "**Alternative** :\n",
      "\n",
      "Il existe une autre fa\u00e7on d'\u00e9crire du texte format\u00e9 : la m\u00e9thode `format()`."
     ]
    },
    {
     "cell_type": "code",
     "collapsed": false,
     "input": [
      "x = 32\n",
      "nom = 'John'\n",
      "print \"{0} a {1} ans\".format(nom,x)"
     ],
     "language": "python",
     "metadata": {},
     "outputs": [
      {
       "output_type": "stream",
       "stream": "stdout",
       "text": [
        "John a 32 ans\n"
       ]
      }
     ],
     "prompt_number": 15
    },
    {
     "cell_type": "code",
     "collapsed": false,
     "input": [
      "nbG = 4500\n",
      "nbC = 2575\n",
      "propGC = (4500.0 + 2575)/14800\n",
      "print \"On a {0} G et {1} C -> prop GC = {2:.2f}\".format(nbG,nbC,propGC)"
     ],
     "language": "python",
     "metadata": {},
     "outputs": [
      {
       "output_type": "stream",
       "stream": "stdout",
       "text": [
        "On a 4500 G et 2575 C -> prop GC = 0.48\n"
       ]
      }
     ],
     "prompt_number": 16
    },
    {
     "cell_type": "markdown",
     "metadata": {},
     "source": [
      "La syntaxe est l\u00e9g\u00e8rement diff\u00e9rente :\n",
      "\n",
      "* `.format(nom,x)` est utilis\u00e9 pour indiquer les variables (`nom` et `x`) \u00e0 afficher ;\n",
      "* `{0}` et `{1}` d\u00e9signe l'endroit o\u00f9 seront plac\u00e9es les variables. Les chiffres indiquent la position de la variable dans format (0=nom et 1=x) ;\n",
      "* Pour le 2\u00e8me exemple, on pr\u00e9cise la position de la variable (2) et le formatage voulu, ici `.2f` soit deux chiffres apr\u00e8s la virgule pour un r\u00e9el. Notez qu'un : est ajout\u00e9 pour signifier l'ajout de r\u00e8gles de formatage.\n",
      "\n",
      "Cette m\u00e9thode vous est pr\u00e9sent\u00e9e \u00e0 titre d'information car elle deviendra standard dans la version Python 3."
     ]
    },
    {
     "cell_type": "heading",
     "level": 2,
     "metadata": {},
     "source": [
      "Exercices"
     ]
    },
    {
     "cell_type": "markdown",
     "metadata": {},
     "source": [
      "Conseil : utilisez l'interpr\u00e9teur Python pour les exercices 2 \u00e0 5.\n",
      "\n",
      "1\\. Ouvrez l'interpr\u00e9teur Python et tapez `1+1`. Que se passe-t-il ? \u00c9crivez la m\u00eame chose dans un script `test.py`. Ex\u00e9cutez ce script en tapant `python test.py` dans un shell. Que se passe-t-il ? Pourquoi ?"
     ]
    },
    {
     "cell_type": "code",
     "collapsed": false,
     "input": [],
     "language": "python",
     "metadata": {},
     "outputs": []
    },
    {
     "cell_type": "markdown",
     "metadata": {},
     "source": [
      "2\\. Calculez le pourcentage de GC avec le code\n",
      "`percGC = ((4500 + 2575)/14800)*100`\n",
      "puis affichez le r\u00e9sultat. Que se passe-t-il ? Comment expliquez-vous ce r\u00e9sultat ? Corrigez l'instruction pr\u00e9c\u00e9dente pour calculer correctement le pourcentage de GC. Affichez cette valeur avec deux d\u00e9cimales de pr\u00e9cision."
     ]
    },
    {
     "cell_type": "code",
     "collapsed": false,
     "input": [],
     "language": "python",
     "metadata": {},
     "outputs": []
    },
    {
     "cell_type": "markdown",
     "metadata": {},
     "source": [
      "3\\. G\u00e9n\u00e9rez une cha\u00eene de caract\u00e8res repr\u00e9sentant un oligonucl\u00e9otide polyA (AAAA...) de 20 bases de longueurs, sans taper litt\u00e9ralement toutes les bases."
     ]
    },
    {
     "cell_type": "code",
     "collapsed": false,
     "input": [],
     "language": "python",
     "metadata": {},
     "outputs": []
    },
    {
     "cell_type": "markdown",
     "metadata": {},
     "source": [
      "4\\. Suivant le mod\u00e8le du dessus, g\u00e9n\u00e9rez en une ligne de code un polyA de 20 bases suivi d'un polyGC r\u00e9gulier (GCGCGC...) de 40 bases."
     ]
    },
    {
     "cell_type": "code",
     "collapsed": false,
     "input": [],
     "language": "python",
     "metadata": {},
     "outputs": []
    },
    {
     "cell_type": "markdown",
     "metadata": {},
     "source": [
      "5\\. En utilisant l'\u00e9criture format\u00e9e, affichez en une seule ligne les variables `a`, `b` et `c` dont les valeurs sont respectivement `\"salut\"`, `102` et `10.318`."
     ]
    },
    {
     "cell_type": "code",
     "collapsed": false,
     "input": [],
     "language": "python",
     "metadata": {},
     "outputs": []
    },
    {
     "cell_type": "code",
     "collapsed": false,
     "input": [
      "# Execute this cell to load the notebook's style sheet, then ignore it\n",
      "from IPython.core.display import HTML\n",
      "css_file = 'styles/numericalmoocstyle.css'\n",
      "HTML(open(css_file, \"r\").read())"
     ],
     "language": "python",
     "metadata": {},
     "outputs": [
      {
       "html": [
        "<link href='http://fonts.googleapis.com/css?family=Alegreya+Sans:100,300,400,500,700,800,900,100italic,300italic,400italic,500italic,700italic,800italic,900italic' rel='stylesheet' type='text/css'>\n",
        "<link href='http://fonts.googleapis.com/css?family=Arvo:400,700,400italic' rel='stylesheet' type='text/css'>\n",
        "<link href='http://fonts.googleapis.com/css?family=PT+Mono' rel='stylesheet' type='text/css'>\n",
        "<link href='http://fonts.googleapis.com/css?family=Shadows+Into+Light' rel='stylesheet' type='text/css'>\n",
        "<link href='http://fonts.googleapis.com/css?family=Nixie+One' rel='stylesheet' type='text/css'>\n",
        "<style>\n",
        "\n",
        "@font-face {\n",
        "    font-family: \"Computer Modern\";\n",
        "    src: url('http://mirrors.ctan.org/fonts/cm-unicode/fonts/otf/cmunss.otf');\n",
        "}\n",
        "\n",
        "#notebook_panel { /* main background */\n",
        "    background: rgb(245,245,245);\n",
        "}\n",
        "\n",
        "div.cell { /* set cell width */\n",
        "    width: 750px;\n",
        "}\n",
        "\n",
        "div #notebook { /* centre the content */\n",
        "    background: #fff; /* white background for content */\n",
        "    width: 1000px;\n",
        "    margin: auto;\n",
        "    padding-left: 0em;\n",
        "}\n",
        "\n",
        "#notebook li { /* More space between bullet points */\n",
        "margin-top:0.8em;\n",
        "}\n",
        "\n",
        "/* draw border around running cells */\n",
        "div.cell.border-box-sizing.code_cell.running { \n",
        "    border: 1px solid #111;\n",
        "}\n",
        "\n",
        "/* Put a solid color box around each cell and its output, visually linking them*/\n",
        "div.cell.code_cell {\n",
        "    background-color: rgb(256,256,256); \n",
        "    border-radius: 0px; \n",
        "    padding: 0.5em;\n",
        "    margin-left:1em;\n",
        "    margin-top: 1em;\n",
        "}\n",
        "\n",
        "div.text_cell_render{\n",
        "    font-family: 'Alegreya Sans' sans-serif;\n",
        "    line-height: 140%;\n",
        "    font-size: 125%;\n",
        "    font-weight: 400;\n",
        "    width:600px;\n",
        "    margin-left:auto;\n",
        "    margin-right:auto;\n",
        "}\n",
        "\n",
        "\n",
        "/* Formatting for header cells */\n",
        ".text_cell_render h1 {\n",
        "    font-family: 'Nixie One', serif;\n",
        "    font-style:regular;\n",
        "    font-weight: 400;    \n",
        "    font-size: 45pt;\n",
        "    line-height: 100%;\n",
        "    color: rgb(0,51,102);\n",
        "    margin-bottom: 0.5em;\n",
        "    margin-top: 0.5em;\n",
        "    display: block;\n",
        "}\t\n",
        ".text_cell_render h2 {\n",
        "    font-family: 'Nixie One', serif;\n",
        "    font-weight: 400;\n",
        "    font-size: 30pt;\n",
        "    line-height: 100%;\n",
        "    color: rgb(0,51,102);\n",
        "    margin-bottom: 0.1em;\n",
        "    margin-top: 0.3em;\n",
        "    display: block;\n",
        "}\t\n",
        "\n",
        ".text_cell_render h3 {\n",
        "    font-family: 'Nixie One', serif;\n",
        "    margin-top:16px;\n",
        "\tfont-size: 22pt;\n",
        "    font-weight: 600;\n",
        "    margin-bottom: 3px;\n",
        "    font-style: regular;\n",
        "    color: rgb(102,102,0);\n",
        "}\n",
        "\n",
        ".text_cell_render h4 {    /*Use this for captions*/\n",
        "    font-family: 'Nixie One', serif;\n",
        "    font-size: 14pt;\n",
        "    text-align: center;\n",
        "    margin-top: 0em;\n",
        "    margin-bottom: 2em;\n",
        "    font-style: regular;\n",
        "}\n",
        "\n",
        ".text_cell_render h5 {  /*Use this for small titles*/\n",
        "    font-family: 'Nixie One', sans-serif;\n",
        "    font-weight: 400;\n",
        "    font-size: 16pt;\n",
        "    color: rgb(163,0,0);\n",
        "    font-style: italic;\n",
        "    margin-bottom: .1em;\n",
        "    margin-top: 0.8em;\n",
        "    display: block;\n",
        "}\n",
        "\n",
        ".text_cell_render h6 { /*use this for copyright note*/\n",
        "    font-family: 'PT Mono', sans-serif;\n",
        "    font-weight: 300;\n",
        "    font-size: 9pt;\n",
        "    line-height: 100%;\n",
        "    color: grey;\n",
        "    margin-bottom: 1px;\n",
        "    margin-top: 1px;\n",
        "}\n",
        "\n",
        ".CodeMirror{\n",
        "        font-family: \"PT Mono\";\n",
        "        font-size: 90%;\n",
        "}\n",
        "\n",
        "</style>\n",
        "<script>\n",
        "    MathJax.Hub.Config({\n",
        "                        TeX: {\n",
        "                           extensions: [\"AMSmath.js\"],\n",
        "                           equationNumbers: { autoNumber: \"AMS\", useLabelIds: true}\n",
        "                           },\n",
        "                tex2jax: {\n",
        "                    inlineMath: [ ['$','$'], [\"\\\\(\",\"\\\\)\"] ],\n",
        "                    displayMath: [ ['$$','$$'], [\"\\\\[\",\"\\\\]\"] ]\n",
        "                },\n",
        "                displayAlign: 'center', // Change this to 'center' to center equations.\n",
        "                \"HTML-CSS\": {\n",
        "                    styles: {'.MathJax_Display': {\"margin\": 4}}\n",
        "                }\n",
        "        });\n",
        "</script>\n"
       ],
       "metadata": {},
       "output_type": "pyout",
       "prompt_number": 17,
       "text": [
        "<IPython.core.display.HTML at 0x10eb8f390>"
       ]
      }
     ],
     "prompt_number": 17
    },
    {
     "cell_type": "code",
     "collapsed": false,
     "input": [],
     "language": "python",
     "metadata": {},
     "outputs": []
    }
   ],
   "metadata": {}
  }
 ]
}