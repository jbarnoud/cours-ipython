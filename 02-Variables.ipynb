{
 "metadata": {
  "name": ""
 },
 "nbformat": 3,
 "nbformat_minor": 0,
 "worksheets": [
  {
   "cells": [
    {
     "cell_type": "heading",
     "level": 1,
     "metadata": {},
     "source": [
      "Variables"
     ]
    },
    {
     "cell_type": "markdown",
     "metadata": {},
     "source": [
      "Une **variable** est une zone de la m\u00e9moire dans laquelle une **valeur** est stock\u00e9e. Aux yeux du programmeur, cette variable est d\u00e9finie par un nom, alors que pour l'ordinateur, il s'agit en fait d'une adresse (i.e. une zone particuli\u00e8re de la m\u00e9moire).\n",
      "\n",
      "En Python, la **d\u00e9claration** d'une variable et son **initialisation** (c.-\u00e0-d. la premi\u00e8re valeur que l'on va stocker dedans) se fait en m\u00eame temps. Pour vous en convaincre, regardez puis testez les instructions suivantes apr\u00e8s avoir lanc\u00e9 l'interpr\u00e9teur :"
     ]
    },
    {
     "cell_type": "code",
     "collapsed": false,
     "input": [
      "x = 2\n",
      "x"
     ],
     "language": "python",
     "metadata": {},
     "outputs": [
      {
       "metadata": {},
       "output_type": "pyout",
       "prompt_number": 1,
       "text": [
        "2"
       ]
      }
     ],
     "prompt_number": 1
    },
    {
     "cell_type": "markdown",
     "metadata": {},
     "source": [
      "Dans cet exemple, nous avons d\u00e9clar\u00e9, puis initialis\u00e9 la variable `x` avec la valeur 2. L'interpr\u00e9teur nous a ensuite permis de regarder le contenu de la variable juste en tapant son nom. Retenez ceci car c'est une **sp\u00e9cificit\u00e9 de l'interpr\u00e9teur Python**, tr\u00e8s pratique pour chasser les erreurs (debug) dans un programme. Par contre, la ligne d'un script Python qui contient seulement le nom d'une variable (sans aucune autre fonction) n'affichera pas la valeur de la variable \u00e0 l'\u00e9cran."
     ]
    },
    {
     "cell_type": "heading",
     "level": 2,
     "metadata": {},
     "source": [
      "Types"
     ]
    },
    {
     "cell_type": "markdown",
     "metadata": {},
     "source": [
      "Le **type** d'une variable correspond \u00e0 la nature de celle-ci. Les trois types principaux dont nous aurons besoin sont les entiers, les r\u00e9els et les cha\u00eenes de caract\u00e8res. Bien s\u00fbr, il existe de nombreux autres types (par exemple, les nombres complexes), c'est d'ailleurs un des gros avantages de Python (si vous n'\u00eates pas effray\u00e9s, vous pouvez vous en rendre compte ici).\n",
      "\n",
      "Dans l'exemple pr\u00e9c\u00e9dent, nous avons stock\u00e9 un nombre entier (*int*) dans la variable `x`, mais il est tout a fait possible de stocker des nombres r\u00e9els (*float*) ou des cha\u00eenes de caract\u00e8res (*string*) :"
     ]
    },
    {
     "cell_type": "code",
     "collapsed": false,
     "input": [
      "y = 3.14\n",
      "y"
     ],
     "language": "python",
     "metadata": {},
     "outputs": [
      {
       "metadata": {},
       "output_type": "pyout",
       "prompt_number": 2,
       "text": [
        "3.14"
       ]
      }
     ],
     "prompt_number": 2
    },
    {
     "cell_type": "code",
     "collapsed": false,
     "input": [
      "a = \"bonjour\"\n",
      "a"
     ],
     "language": "python",
     "metadata": {},
     "outputs": [
      {
       "metadata": {},
       "output_type": "pyout",
       "prompt_number": 3,
       "text": [
        "'bonjour'"
       ]
      }
     ],
     "prompt_number": 3
    },
    {
     "cell_type": "code",
     "collapsed": false,
     "input": [
      "b = 'salut'\n",
      "b"
     ],
     "language": "python",
     "metadata": {},
     "outputs": [
      {
       "metadata": {},
       "output_type": "pyout",
       "prompt_number": 4,
       "text": [
        "'salut'"
       ]
      }
     ],
     "prompt_number": 4
    },
    {
     "cell_type": "code",
     "collapsed": false,
     "input": [
      "c = '''girafe'''\n",
      "c"
     ],
     "language": "python",
     "metadata": {},
     "outputs": [
      {
       "metadata": {},
       "output_type": "pyout",
       "prompt_number": 5,
       "text": [
        "'girafe'"
       ]
      }
     ],
     "prompt_number": 5
    },
    {
     "cell_type": "markdown",
     "metadata": {},
     "source": [
      "Vous remarquez que Python reconna\u00eet certains types de variable automatiquement (entier, r\u00e9el). Par contre, pour une cha\u00eene de caract\u00e8res, il faut l'entourer de guillemets (simples, doubles voire triples) afin d'indiquer \u00e0 Python le d\u00e9but et la fin de la cha\u00eene. "
     ]
    },
    {
     "cell_type": "heading",
     "level": 2,
     "metadata": {},
     "source": [
      "Nommage"
     ]
    },
    {
     "cell_type": "markdown",
     "metadata": {},
     "source": [
      "Le nom des variable en Python peut-\u00eatre constitu\u00e9 de lettres minuscules (a \u00e0 z), de lettres majuscules (A \u00e0 Z), de nombres (0 \u00e0 9) ou du caract\u00e8re soulign\u00e9 (_).\n",
      "\n",
      "N\u00e9anmoins, un nom de variable ne doit pas d\u00e9buter ni par un chiffre, ni par _ et ne peut pas contenir de caract\u00e8re accentu\u00e9. Il faut absolument \u00e9viter d'utiliser un mot \u00abr\u00e9serv\u00e9 \u00bbpar Python comme nom de variable (par ex. : `print`, `range`, `for`, `from`, etc.).\n",
      "\n",
      "Python est sensible \u00e0 la casse, ce qui signifie que les variables `TesT`, `test` ou `TEST` sont diff\u00e9rentes. Enfin, n'utilisez jamais d'espace dans un nom de variable puisque celui-ci est le s\u00e9p\u00e9rateur d'instructions."
     ]
    },
    {
     "cell_type": "heading",
     "level": 2,
     "metadata": {},
     "source": [
      "Op\u00e9rations"
     ]
    },
    {
     "cell_type": "markdown",
     "metadata": {},
     "source": [
      "Les quatre op\u00e9rations de base se font de mani\u00e8re simple sur les types num\u00e9riques (nombres entiers et r\u00e9els) :"
     ]
    },
    {
     "cell_type": "code",
     "collapsed": false,
     "input": [
      "x = 45\n",
      "x + 2"
     ],
     "language": "python",
     "metadata": {},
     "outputs": [
      {
       "metadata": {},
       "output_type": "pyout",
       "prompt_number": 6,
       "text": [
        "47"
       ]
      }
     ],
     "prompt_number": 6
    },
    {
     "cell_type": "code",
     "collapsed": false,
     "input": [
      "y = 2.5\n",
      "x + y"
     ],
     "language": "python",
     "metadata": {},
     "outputs": [
      {
       "metadata": {},
       "output_type": "pyout",
       "prompt_number": 7,
       "text": [
        "47.5"
       ]
      }
     ],
     "prompt_number": 7
    },
    {
     "cell_type": "code",
     "collapsed": false,
     "input": [
      "(x * 10) / y"
     ],
     "language": "python",
     "metadata": {},
     "outputs": [
      {
       "metadata": {},
       "output_type": "pyout",
       "prompt_number": 8,
       "text": [
        "180.0"
       ]
      }
     ],
     "prompt_number": 8
    },
    {
     "cell_type": "markdown",
     "metadata": {},
     "source": [
      "Remarquez toutefois que si vous m\u00e9langez les types entiers et r\u00e9els, le r\u00e9sultat est renvoy\u00e9 comme un r\u00e9el (car ce type est plus g\u00e9n\u00e9ral).\n",
      "\n",
      "L'op\u00e9rateur puissance utilise le symbole `**` et pour obtenir le reste d'une division enti\u00e8re, on utilise le symbole modulo `%` :"
     ]
    },
    {
     "cell_type": "code",
     "collapsed": false,
     "input": [
      "2**3"
     ],
     "language": "python",
     "metadata": {},
     "outputs": [
      {
       "metadata": {},
       "output_type": "pyout",
       "prompt_number": 9,
       "text": [
        "8"
       ]
      }
     ],
     "prompt_number": 9
    },
    {
     "cell_type": "code",
     "collapsed": false,
     "input": [
      "3 % 4"
     ],
     "language": "python",
     "metadata": {},
     "outputs": [
      {
       "metadata": {},
       "output_type": "pyout",
       "prompt_number": 10,
       "text": [
        "3"
       ]
      }
     ],
     "prompt_number": 10
    },
    {
     "cell_type": "code",
     "collapsed": false,
     "input": [
      "8 % 4"
     ],
     "language": "python",
     "metadata": {},
     "outputs": [
      {
       "metadata": {},
       "output_type": "pyout",
       "prompt_number": 11,
       "text": [
        "0"
       ]
      }
     ],
     "prompt_number": 11
    },
    {
     "cell_type": "heading",
     "level": 3,
     "metadata": {},
     "source": [
      "Op\u00e9rations sur les cha\u00eenes de caract\u00e8res"
     ]
    },
    {
     "cell_type": "markdown",
     "metadata": {},
     "source": [
      "Pour les cha\u00eenes de caract\u00e8res, deux op\u00e9rations sont possibles, l'addition et la multiplication :"
     ]
    },
    {
     "cell_type": "code",
     "collapsed": false,
     "input": [
      "chaine = \"Salut\"\n",
      "chaine"
     ],
     "language": "python",
     "metadata": {},
     "outputs": [
      {
       "metadata": {},
       "output_type": "pyout",
       "prompt_number": 12,
       "text": [
        "'Salut'"
       ]
      }
     ],
     "prompt_number": 12
    },
    {
     "cell_type": "code",
     "collapsed": false,
     "input": [
      "chaine + \" Python\""
     ],
     "language": "python",
     "metadata": {},
     "outputs": [
      {
       "metadata": {},
       "output_type": "pyout",
       "prompt_number": 13,
       "text": [
        "'Salut Python'"
       ]
      }
     ],
     "prompt_number": 13
    },
    {
     "cell_type": "code",
     "collapsed": false,
     "input": [
      "chaine * 3"
     ],
     "language": "python",
     "metadata": {},
     "outputs": [
      {
       "metadata": {},
       "output_type": "pyout",
       "prompt_number": 14,
       "text": [
        "'SalutSalutSalut'"
       ]
      }
     ],
     "prompt_number": 14
    },
    {
     "cell_type": "markdown",
     "metadata": {},
     "source": [
      "L'op\u00e9rateur d'addition `+` permet de concat\u00e9ner (assembler) deux cha\u00eenes de caract\u00e8res et l'op\u00e9rateur de multiplication `*` permet de dupliquer plusieurs fois une cha\u00eene."
     ]
    },
    {
     "cell_type": "heading",
     "level": 3,
     "metadata": {},
     "source": [
      "Op\u00e9rations illicites"
     ]
    },
    {
     "cell_type": "markdown",
     "metadata": {},
     "source": [
      "Attention \u00e0 ne pas faire d'op\u00e9ration illicite car vous obtiendriez un message d'erreur :"
     ]
    },
    {
     "cell_type": "code",
     "collapsed": false,
     "input": [
      "'toto' + 2"
     ],
     "language": "python",
     "metadata": {},
     "outputs": [
      {
       "ename": "TypeError",
       "evalue": "cannot concatenate 'str' and 'int' objects",
       "output_type": "pyerr",
       "traceback": [
        "\u001b[0;31m---------------------------------------------------------------------------\u001b[0m\n\u001b[0;31mTypeError\u001b[0m                                 Traceback (most recent call last)",
        "\u001b[0;32m<ipython-input-15-1932f4dd0f71>\u001b[0m in \u001b[0;36m<module>\u001b[0;34m()\u001b[0m\n\u001b[0;32m----> 1\u001b[0;31m \u001b[0;34m'toto'\u001b[0m \u001b[0;34m+\u001b[0m \u001b[0;36m2\u001b[0m\u001b[0;34m\u001b[0m\u001b[0m\n\u001b[0m",
        "\u001b[0;31mTypeError\u001b[0m: cannot concatenate 'str' and 'int' objects"
       ]
      }
     ],
     "prompt_number": 15
    },
    {
     "cell_type": "markdown",
     "metadata": {},
     "source": [
      "Notez que Python vous donne le maximum d'indices dans son message d'erreur. Dans l'exemple pr\u00e9c\u00e9dent, il vous indique que vous ne pouvez pas m\u00e9langer des objets de type **str** (*string*, donc des cha\u00eenes de caract\u00e8res) avec des objets de type **int** (donc des entiers), ce qui est assez logique."
     ]
    },
    {
     "cell_type": "heading",
     "level": 3,
     "metadata": {},
     "source": [
      "Fonction type()"
     ]
    },
    {
     "cell_type": "markdown",
     "metadata": {},
     "source": [
      "Si vous ne vous souvenez plus du type d'une variable, utilisez la fonction `type` qui vous le rappelle."
     ]
    },
    {
     "cell_type": "code",
     "collapsed": false,
     "input": [
      "x = 2\n",
      "type(x)"
     ],
     "language": "python",
     "metadata": {},
     "outputs": [
      {
       "metadata": {},
       "output_type": "pyout",
       "prompt_number": 16,
       "text": [
        "int"
       ]
      }
     ],
     "prompt_number": 16
    },
    {
     "cell_type": "code",
     "collapsed": false,
     "input": [
      "x = 2.0\n",
      "type(x)"
     ],
     "language": "python",
     "metadata": {},
     "outputs": [
      {
       "metadata": {},
       "output_type": "pyout",
       "prompt_number": 17,
       "text": [
        "float"
       ]
      }
     ],
     "prompt_number": 17
    },
    {
     "cell_type": "code",
     "collapsed": false,
     "input": [
      "x = '2'\n",
      "type(x)"
     ],
     "language": "python",
     "metadata": {},
     "outputs": [
      {
       "metadata": {},
       "output_type": "pyout",
       "prompt_number": 18,
       "text": [
        "str"
       ]
      }
     ],
     "prompt_number": 18
    },
    {
     "cell_type": "markdown",
     "metadata": {},
     "source": [
      "Faites bien attention, pour Python, la valeur `2` (nombre entier) est diff\u00e9rente de `2.0` (nombre r\u00e9el), de m\u00eame que `2` (nombre entier) est diff\u00e9rent de `'2'` (cha\u00eene de caract\u00e8res)."
     ]
    },
    {
     "cell_type": "code",
     "collapsed": false,
     "input": [],
     "language": "python",
     "metadata": {},
     "outputs": []
    }
   ],
   "metadata": {}
  }
 ]
}